{
 "cells": [
  {
   "cell_type": "code",
   "execution_count": 1,
   "id": "172c6089-2ab1-426e-9c6f-b9cbf66cede1",
   "metadata": {},
   "outputs": [
    {
     "data": {
      "text/plain": [
       "'/home/user/Subhadeep/FAST_VQA/fastvqa/models'"
      ]
     },
     "execution_count": 1,
     "metadata": {},
     "output_type": "execute_result"
    }
   ],
   "source": [
    "pwd"
   ]
  },
  {
   "cell_type": "code",
   "execution_count": 2,
   "id": "9dcd5cd8-00fc-48f0-adee-f923e2a95ffe",
   "metadata": {},
   "outputs": [
    {
     "name": "stdout",
     "output_type": "stream",
     "text": [
      "/home/user/Subhadeep/FAST_VQA/DATASETS/LSVD/LSVD_zip\n"
     ]
    }
   ],
   "source": [
    "cd /home/user/Subhadeep/FAST_VQA/DATASETS/LSVD/LSVD_zip"
   ]
  },
  {
   "cell_type": "code",
   "execution_count": 4,
   "id": "2dcdd8ed-c117-4890-b42e-d1898c06cdcf",
   "metadata": {},
   "outputs": [],
   "source": [
    "import pandas as pd"
   ]
  },
  {
   "cell_type": "code",
   "execution_count": 6,
   "id": "db6012f9-71fd-4093-9294-a6c743997a47",
   "metadata": {},
   "outputs": [],
   "source": [
    "test_videos = pd.read_csv(\"labels_test_1080p.csv\")"
   ]
  },
  {
   "cell_type": "code",
   "execution_count": 8,
   "id": "4494f75d",
   "metadata": {},
   "outputs": [
    {
     "data": {
      "text/html": [
       "<div>\n",
       "<style scoped>\n",
       "    .dataframe tbody tr th:only-of-type {\n",
       "        vertical-align: middle;\n",
       "    }\n",
       "\n",
       "    .dataframe tbody tr th {\n",
       "        vertical-align: top;\n",
       "    }\n",
       "\n",
       "    .dataframe thead th {\n",
       "        text-align: right;\n",
       "    }\n",
       "</style>\n",
       "<table border=\"1\" class=\"dataframe\">\n",
       "  <thead>\n",
       "    <tr style=\"text-align: right;\">\n",
       "      <th></th>\n",
       "      <th>name</th>\n",
       "      <th>p1</th>\n",
       "      <th>p2</th>\n",
       "      <th>p3</th>\n",
       "      <th>height</th>\n",
       "      <th>width</th>\n",
       "      <th>mos_p1</th>\n",
       "      <th>mos_p2</th>\n",
       "      <th>mos_p3</th>\n",
       "      <th>mos</th>\n",
       "      <th>...</th>\n",
       "      <th>bottom_p3</th>\n",
       "      <th>start_p3</th>\n",
       "      <th>end_p3</th>\n",
       "      <th>top_vid</th>\n",
       "      <th>left_vid</th>\n",
       "      <th>bottom_vid</th>\n",
       "      <th>right_vid</th>\n",
       "      <th>start_vid</th>\n",
       "      <th>end_vid</th>\n",
       "      <th>is_valid</th>\n",
       "    </tr>\n",
       "  </thead>\n",
       "  <tbody>\n",
       "    <tr>\n",
       "      <th>0</th>\n",
       "      <td>yfcc-batch1/722</td>\n",
       "      <td>[263, 1031, 251, 683, 0, 168]</td>\n",
       "      <td>[0, 1920, 0, 1080, 88, 156]</td>\n",
       "      <td>[888, 1656, 648, 1080, 85, 152]</td>\n",
       "      <td>1080</td>\n",
       "      <td>1920</td>\n",
       "      <td>68.742857</td>\n",
       "      <td>71.000000</td>\n",
       "      <td>68.757576</td>\n",
       "      <td>78.774194</td>\n",
       "      <td>...</td>\n",
       "      <td>1080.0</td>\n",
       "      <td>85.0</td>\n",
       "      <td>152.0</td>\n",
       "      <td>0</td>\n",
       "      <td>0</td>\n",
       "      <td>1080</td>\n",
       "      <td>1920</td>\n",
       "      <td>0</td>\n",
       "      <td>167</td>\n",
       "      <td>False</td>\n",
       "    </tr>\n",
       "    <tr>\n",
       "      <th>1</th>\n",
       "      <td>yfcc-batch1/724</td>\n",
       "      <td>[849, 1617, 442, 874, 0, 172]</td>\n",
       "      <td>[0, 1920, 0, 1080, 82, 151]</td>\n",
       "      <td>[1112, 1880, 0, 432, 13, 82]</td>\n",
       "      <td>1080</td>\n",
       "      <td>1920</td>\n",
       "      <td>58.666667</td>\n",
       "      <td>68.906250</td>\n",
       "      <td>60.812500</td>\n",
       "      <td>73.181818</td>\n",
       "      <td>...</td>\n",
       "      <td>432.0</td>\n",
       "      <td>13.0</td>\n",
       "      <td>82.0</td>\n",
       "      <td>0</td>\n",
       "      <td>0</td>\n",
       "      <td>1080</td>\n",
       "      <td>1920</td>\n",
       "      <td>0</td>\n",
       "      <td>172</td>\n",
       "      <td>False</td>\n",
       "    </tr>\n",
       "    <tr>\n",
       "      <th>2</th>\n",
       "      <td>yfcc-batch1/717</td>\n",
       "      <td>[264, 696, 233, 1001, 0, 236]</td>\n",
       "      <td>[0, 1080, 0, 1920, 133, 228]</td>\n",
       "      <td>[648, 1080, 0, 768, 17, 112]</td>\n",
       "      <td>1920</td>\n",
       "      <td>1080</td>\n",
       "      <td>56.368421</td>\n",
       "      <td>58.628571</td>\n",
       "      <td>59.285714</td>\n",
       "      <td>49.600000</td>\n",
       "      <td>...</td>\n",
       "      <td>768.0</td>\n",
       "      <td>17.0</td>\n",
       "      <td>112.0</td>\n",
       "      <td>0</td>\n",
       "      <td>0</td>\n",
       "      <td>1920</td>\n",
       "      <td>1080</td>\n",
       "      <td>0</td>\n",
       "      <td>236</td>\n",
       "      <td>False</td>\n",
       "    </tr>\n",
       "    <tr>\n",
       "      <th>3</th>\n",
       "      <td>yfcc-batch1/719</td>\n",
       "      <td>[912, 1680, 591, 1023, 0, 214]</td>\n",
       "      <td>[0, 1920, 0, 1080, 109, 196]</td>\n",
       "      <td>[0, 768, 0, 432, 128, 214]</td>\n",
       "      <td>1080</td>\n",
       "      <td>1920</td>\n",
       "      <td>59.189189</td>\n",
       "      <td>70.612903</td>\n",
       "      <td>65.352941</td>\n",
       "      <td>80.656250</td>\n",
       "      <td>...</td>\n",
       "      <td>432.0</td>\n",
       "      <td>128.0</td>\n",
       "      <td>214.0</td>\n",
       "      <td>0</td>\n",
       "      <td>0</td>\n",
       "      <td>1080</td>\n",
       "      <td>1920</td>\n",
       "      <td>0</td>\n",
       "      <td>215</td>\n",
       "      <td>False</td>\n",
       "    </tr>\n",
       "    <tr>\n",
       "      <th>4</th>\n",
       "      <td>yfcc-batch1/726</td>\n",
       "      <td>[348, 1116, 122, 554, 0, 172]</td>\n",
       "      <td>[0, 1920, 0, 1080, 41, 109]</td>\n",
       "      <td>[934, 1702, 0, 432, 103, 172]</td>\n",
       "      <td>1080</td>\n",
       "      <td>1920</td>\n",
       "      <td>45.166667</td>\n",
       "      <td>48.470588</td>\n",
       "      <td>54.233333</td>\n",
       "      <td>50.500000</td>\n",
       "      <td>...</td>\n",
       "      <td>432.0</td>\n",
       "      <td>103.0</td>\n",
       "      <td>172.0</td>\n",
       "      <td>0</td>\n",
       "      <td>0</td>\n",
       "      <td>1080</td>\n",
       "      <td>1920</td>\n",
       "      <td>0</td>\n",
       "      <td>173</td>\n",
       "      <td>False</td>\n",
       "    </tr>\n",
       "    <tr>\n",
       "      <th>...</th>\n",
       "      <td>...</td>\n",
       "      <td>...</td>\n",
       "      <td>...</td>\n",
       "      <td>...</td>\n",
       "      <td>...</td>\n",
       "      <td>...</td>\n",
       "      <td>...</td>\n",
       "      <td>...</td>\n",
       "      <td>...</td>\n",
       "      <td>...</td>\n",
       "      <td>...</td>\n",
       "      <td>...</td>\n",
       "      <td>...</td>\n",
       "      <td>...</td>\n",
       "      <td>...</td>\n",
       "      <td>...</td>\n",
       "      <td>...</td>\n",
       "      <td>...</td>\n",
       "      <td>...</td>\n",
       "      <td>...</td>\n",
       "      <td>...</td>\n",
       "    </tr>\n",
       "    <tr>\n",
       "      <th>3568</th>\n",
       "      <td>ia-batch24/youtube-5DBJLogrmSs</td>\n",
       "      <td>[978, 1746, 86, 518, 0, 241]</td>\n",
       "      <td>[0, 1920, 0, 1080, 36, 132]</td>\n",
       "      <td>[1100, 1868, 577, 1009, 110, 206]</td>\n",
       "      <td>1080</td>\n",
       "      <td>1920</td>\n",
       "      <td>29.386364</td>\n",
       "      <td>35.100000</td>\n",
       "      <td>21.300000</td>\n",
       "      <td>38.404762</td>\n",
       "      <td>...</td>\n",
       "      <td>1009.0</td>\n",
       "      <td>110.0</td>\n",
       "      <td>206.0</td>\n",
       "      <td>0</td>\n",
       "      <td>0</td>\n",
       "      <td>1080</td>\n",
       "      <td>1920</td>\n",
       "      <td>0</td>\n",
       "      <td>241</td>\n",
       "      <td>False</td>\n",
       "    </tr>\n",
       "    <tr>\n",
       "      <th>3569</th>\n",
       "      <td>ia-batch24/youtube-aEeXK0RsdKQ</td>\n",
       "      <td>[553, 1129, 20, 452, 0, 245]</td>\n",
       "      <td>[0, 1440, 0, 1080, 16, 114]</td>\n",
       "      <td>[113, 689, 303, 735, 119, 217]</td>\n",
       "      <td>1080</td>\n",
       "      <td>1440</td>\n",
       "      <td>40.181818</td>\n",
       "      <td>47.589744</td>\n",
       "      <td>45.707317</td>\n",
       "      <td>48.025641</td>\n",
       "      <td>...</td>\n",
       "      <td>735.0</td>\n",
       "      <td>119.0</td>\n",
       "      <td>217.0</td>\n",
       "      <td>0</td>\n",
       "      <td>0</td>\n",
       "      <td>1080</td>\n",
       "      <td>1440</td>\n",
       "      <td>0</td>\n",
       "      <td>245</td>\n",
       "      <td>False</td>\n",
       "    </tr>\n",
       "    <tr>\n",
       "      <th>3570</th>\n",
       "      <td>ia-batch24/youtube-CJyByjS_0HM</td>\n",
       "      <td>[323, 1091, 60, 489, 0, 301]</td>\n",
       "      <td>[0, 1920, 0, 1072, 135, 255]</td>\n",
       "      <td>[978, 1746, 112, 541, 161, 282]</td>\n",
       "      <td>1072</td>\n",
       "      <td>1920</td>\n",
       "      <td>31.627907</td>\n",
       "      <td>36.850000</td>\n",
       "      <td>32.170732</td>\n",
       "      <td>44.894737</td>\n",
       "      <td>...</td>\n",
       "      <td>541.0</td>\n",
       "      <td>161.0</td>\n",
       "      <td>282.0</td>\n",
       "      <td>0</td>\n",
       "      <td>0</td>\n",
       "      <td>1072</td>\n",
       "      <td>1920</td>\n",
       "      <td>0</td>\n",
       "      <td>301</td>\n",
       "      <td>False</td>\n",
       "    </tr>\n",
       "    <tr>\n",
       "      <th>3571</th>\n",
       "      <td>ia-batch24/youtube-UGGjc_JS8Gc</td>\n",
       "      <td>[723, 1491, 119, 551, 0, 389]</td>\n",
       "      <td>[0, 1920, 0, 1080, 78, 234]</td>\n",
       "      <td>[272, 1040, 558, 990, 232, 387]</td>\n",
       "      <td>1080</td>\n",
       "      <td>1920</td>\n",
       "      <td>35.571429</td>\n",
       "      <td>42.179487</td>\n",
       "      <td>34.878049</td>\n",
       "      <td>45.128205</td>\n",
       "      <td>...</td>\n",
       "      <td>990.0</td>\n",
       "      <td>232.0</td>\n",
       "      <td>387.0</td>\n",
       "      <td>0</td>\n",
       "      <td>0</td>\n",
       "      <td>1080</td>\n",
       "      <td>1920</td>\n",
       "      <td>0</td>\n",
       "      <td>389</td>\n",
       "      <td>False</td>\n",
       "    </tr>\n",
       "    <tr>\n",
       "      <th>3572</th>\n",
       "      <td>ia-batch24/youtube-_wgGiVhoD6s</td>\n",
       "      <td>[468, 1236, 330, 762, 0, 177]</td>\n",
       "      <td>[0, 1920, 0, 1080, 71, 142]</td>\n",
       "      <td>[1107, 1875, 16, 448, 7, 78]</td>\n",
       "      <td>1080</td>\n",
       "      <td>1920</td>\n",
       "      <td>34.578947</td>\n",
       "      <td>42.750000</td>\n",
       "      <td>30.341463</td>\n",
       "      <td>50.046512</td>\n",
       "      <td>...</td>\n",
       "      <td>448.0</td>\n",
       "      <td>7.0</td>\n",
       "      <td>78.0</td>\n",
       "      <td>0</td>\n",
       "      <td>0</td>\n",
       "      <td>1080</td>\n",
       "      <td>1920</td>\n",
       "      <td>0</td>\n",
       "      <td>177</td>\n",
       "      <td>False</td>\n",
       "    </tr>\n",
       "  </tbody>\n",
       "</table>\n",
       "<p>3573 rows × 37 columns</p>\n",
       "</div>"
      ],
      "text/plain": [
       "                                name                              p1  \\\n",
       "0                    yfcc-batch1/722   [263, 1031, 251, 683, 0, 168]   \n",
       "1                    yfcc-batch1/724   [849, 1617, 442, 874, 0, 172]   \n",
       "2                    yfcc-batch1/717   [264, 696, 233, 1001, 0, 236]   \n",
       "3                    yfcc-batch1/719  [912, 1680, 591, 1023, 0, 214]   \n",
       "4                    yfcc-batch1/726   [348, 1116, 122, 554, 0, 172]   \n",
       "...                              ...                             ...   \n",
       "3568  ia-batch24/youtube-5DBJLogrmSs    [978, 1746, 86, 518, 0, 241]   \n",
       "3569  ia-batch24/youtube-aEeXK0RsdKQ    [553, 1129, 20, 452, 0, 245]   \n",
       "3570  ia-batch24/youtube-CJyByjS_0HM    [323, 1091, 60, 489, 0, 301]   \n",
       "3571  ia-batch24/youtube-UGGjc_JS8Gc   [723, 1491, 119, 551, 0, 389]   \n",
       "3572  ia-batch24/youtube-_wgGiVhoD6s   [468, 1236, 330, 762, 0, 177]   \n",
       "\n",
       "                                p2                                 p3  height  \\\n",
       "0      [0, 1920, 0, 1080, 88, 156]    [888, 1656, 648, 1080, 85, 152]    1080   \n",
       "1      [0, 1920, 0, 1080, 82, 151]       [1112, 1880, 0, 432, 13, 82]    1080   \n",
       "2     [0, 1080, 0, 1920, 133, 228]       [648, 1080, 0, 768, 17, 112]    1920   \n",
       "3     [0, 1920, 0, 1080, 109, 196]         [0, 768, 0, 432, 128, 214]    1080   \n",
       "4      [0, 1920, 0, 1080, 41, 109]      [934, 1702, 0, 432, 103, 172]    1080   \n",
       "...                            ...                                ...     ...   \n",
       "3568   [0, 1920, 0, 1080, 36, 132]  [1100, 1868, 577, 1009, 110, 206]    1080   \n",
       "3569   [0, 1440, 0, 1080, 16, 114]     [113, 689, 303, 735, 119, 217]    1080   \n",
       "3570  [0, 1920, 0, 1072, 135, 255]    [978, 1746, 112, 541, 161, 282]    1072   \n",
       "3571   [0, 1920, 0, 1080, 78, 234]    [272, 1040, 558, 990, 232, 387]    1080   \n",
       "3572   [0, 1920, 0, 1080, 71, 142]       [1107, 1875, 16, 448, 7, 78]    1080   \n",
       "\n",
       "      width     mos_p1     mos_p2     mos_p3        mos  ...  bottom_p3  \\\n",
       "0      1920  68.742857  71.000000  68.757576  78.774194  ...     1080.0   \n",
       "1      1920  58.666667  68.906250  60.812500  73.181818  ...      432.0   \n",
       "2      1080  56.368421  58.628571  59.285714  49.600000  ...      768.0   \n",
       "3      1920  59.189189  70.612903  65.352941  80.656250  ...      432.0   \n",
       "4      1920  45.166667  48.470588  54.233333  50.500000  ...      432.0   \n",
       "...     ...        ...        ...        ...        ...  ...        ...   \n",
       "3568   1920  29.386364  35.100000  21.300000  38.404762  ...     1009.0   \n",
       "3569   1440  40.181818  47.589744  45.707317  48.025641  ...      735.0   \n",
       "3570   1920  31.627907  36.850000  32.170732  44.894737  ...      541.0   \n",
       "3571   1920  35.571429  42.179487  34.878049  45.128205  ...      990.0   \n",
       "3572   1920  34.578947  42.750000  30.341463  50.046512  ...      448.0   \n",
       "\n",
       "     start_p3  end_p3  top_vid  left_vid  bottom_vid  right_vid  start_vid  \\\n",
       "0        85.0   152.0        0         0        1080       1920          0   \n",
       "1        13.0    82.0        0         0        1080       1920          0   \n",
       "2        17.0   112.0        0         0        1920       1080          0   \n",
       "3       128.0   214.0        0         0        1080       1920          0   \n",
       "4       103.0   172.0        0         0        1080       1920          0   \n",
       "...       ...     ...      ...       ...         ...        ...        ...   \n",
       "3568    110.0   206.0        0         0        1080       1920          0   \n",
       "3569    119.0   217.0        0         0        1080       1440          0   \n",
       "3570    161.0   282.0        0         0        1072       1920          0   \n",
       "3571    232.0   387.0        0         0        1080       1920          0   \n",
       "3572      7.0    78.0        0         0        1080       1920          0   \n",
       "\n",
       "      end_vid  is_valid  \n",
       "0         167     False  \n",
       "1         172     False  \n",
       "2         236     False  \n",
       "3         215     False  \n",
       "4         173     False  \n",
       "...       ...       ...  \n",
       "3568      241     False  \n",
       "3569      245     False  \n",
       "3570      301     False  \n",
       "3571      389     False  \n",
       "3572      177     False  \n",
       "\n",
       "[3573 rows x 37 columns]"
      ]
     },
     "execution_count": 8,
     "metadata": {},
     "output_type": "execute_result"
    }
   ],
   "source": [
    "test_videos"
   ]
  },
  {
   "cell_type": "code",
   "execution_count": 9,
   "id": "af15194f",
   "metadata": {},
   "outputs": [
    {
     "data": {
      "text/plain": [
       "Index(['name', 'p1', 'p2', 'p3', 'height', 'width', 'mos_p1', 'mos_p2',\n",
       "       'mos_p3', 'mos', 'frame_number', 'fn_last_frame', 'left_p1', 'right_p1',\n",
       "       'top_p1', 'bottom_p1', 'start_p1', 'end_p1', 'left_p2', 'right_p2',\n",
       "       'top_p2', 'bottom_p2', 'start_p2', 'end_p2', 'left_p3', 'right_p3',\n",
       "       'top_p3', 'bottom_p3', 'start_p3', 'end_p3', 'top_vid', 'left_vid',\n",
       "       'bottom_vid', 'right_vid', 'start_vid', 'end_vid', 'is_valid'],\n",
       "      dtype='object')"
      ]
     },
     "execution_count": 9,
     "metadata": {},
     "output_type": "execute_result"
    }
   ],
   "source": [
    "test_videos.keys()"
   ]
  },
  {
   "cell_type": "code",
   "execution_count": 15,
   "id": "30b6b759",
   "metadata": {},
   "outputs": [
    {
     "data": {
      "text/plain": [
       "167"
      ]
     },
     "execution_count": 15,
     "metadata": {},
     "output_type": "execute_result"
    }
   ],
   "source": [
    "test_videos['end_vid'][0]"
   ]
  },
  {
   "cell_type": "code",
   "execution_count": 16,
   "id": "54d6abc0-db24-441b-8ecf-2d1f7d09eb5a",
   "metadata": {},
   "outputs": [],
   "source": [
    "dataitem = zip(test_videos[\"mos_p1\"],test_videos[\"name\"],test_videos[\"start_vid\"],test_videos[\"end_vid\"])"
   ]
  },
  {
   "cell_type": "code",
   "execution_count": 7,
   "id": "fe0cf2b5-d381-410c-b662-7c88b13758fb",
   "metadata": {},
   "outputs": [],
   "source": [
    "with open(\"k400/annotations/labels.pkl\",\"rb\") as f:\n",
    "    import pickle as pkl\n",
    "    labels = pkl.load(f)"
   ]
  },
  {
   "cell_type": "code",
   "execution_count": 8,
   "id": "5c75103b-6dc5-4045-ba76-05947248626d",
   "metadata": {},
   "outputs": [],
   "source": [
    "label_dict  ={}\n",
    "for (i, label) in enumerate(labels):\n",
    "    label_dict[label] = i"
   ]
  },
  {
   "cell_type": "code",
   "execution_count": 17,
   "id": "12fea95b-be92-49f7-9051-dd3bcf7179d2",
   "metadata": {},
   "outputs": [],
   "source": [
    "datalist = list(dataitem)"
   ]
  },
  {
   "cell_type": "code",
   "execution_count": 18,
   "id": "8030507a-0f5b-4de1-978d-b43e623b1552",
   "metadata": {},
   "outputs": [],
   "source": [
    "import decord"
   ]
  },
  {
   "cell_type": "code",
   "execution_count": 19,
   "id": "8e311f07-2aec-4b22-a4e1-68eecaa021ff",
   "metadata": {},
   "outputs": [],
   "source": [
    "strlist = []"
   ]
  },
  {
   "cell_type": "code",
   "execution_count": 21,
   "id": "d22f7e22",
   "metadata": {},
   "outputs": [],
   "source": [
    "from tqdm import tqdm"
   ]
  },
  {
   "cell_type": "code",
   "execution_count": null,
   "id": "6d00455a",
   "metadata": {},
   "outputs": [],
   "source": []
  },
  {
   "cell_type": "code",
   "execution_count": 35,
   "id": "60e089c2",
   "metadata": {},
   "outputs": [
    {
     "name": "stdout",
     "output_type": "stream",
     "text": [
      "/home/user/Subhadeep/FAST_VQA/DATASETS/LSVD/LSVD_zip\r\n"
     ]
    }
   ],
   "source": [
    "!pwd"
   ]
  },
  {
   "cell_type": "code",
   "execution_count": 32,
   "id": "f15b15c0",
   "metadata": {},
   "outputs": [
    {
     "name": "stdout",
     "output_type": "stream",
     "text": [
      "yfcc-batch1/722.mp4\n"
     ]
    }
   ],
   "source": [
    "print(f'{datalist[0][1]}.mp4')"
   ]
  },
  {
   "cell_type": "code",
   "execution_count": 37,
   "id": "e21a7b14",
   "metadata": {},
   "outputs": [
    {
     "name": "stderr",
     "output_type": "stream",
     "text": [
      "[06:08:33] /github/workspace/src/video/video_reader.cc:83: ERROR opening: /home/user/Subhadeep/FAST_VQA/DATASETS/LSVD/LSVD_zip/yfcc-batch1/722.mp4, No such file or directory\n"
     ]
    },
    {
     "ename": "RuntimeError",
     "evalue": "Error reading /home/user/Subhadeep/FAST_VQA/DATASETS/LSVD/LSVD_zip/yfcc-batch1/722.mp4...",
     "output_type": "error",
     "traceback": [
      "\u001b[0;31m---------------------------------------------------------------------------\u001b[0m",
      "\u001b[0;31mRuntimeError\u001b[0m                              Traceback (most recent call last)",
      "Cell \u001b[0;32mIn [37], line 1\u001b[0m\n\u001b[0;32m----> 1\u001b[0m \u001b[43mdecord\u001b[49m\u001b[38;5;241;43m.\u001b[39;49m\u001b[43mVideoReader\u001b[49m\u001b[43m(\u001b[49m\u001b[38;5;124;43m'\u001b[39;49m\u001b[38;5;124;43m/home/user/Subhadeep/FAST_VQA/DATASETS/LSVD/LSVD_zip/\u001b[39;49m\u001b[38;5;124;43m'\u001b[39;49m\u001b[38;5;241;43m+\u001b[39;49m\u001b[38;5;124;43mf\u001b[39;49m\u001b[38;5;124;43m'\u001b[39;49m\u001b[38;5;132;43;01m{\u001b[39;49;00m\u001b[43mdatalist\u001b[49m\u001b[43m[\u001b[49m\u001b[38;5;241;43m0\u001b[39;49m\u001b[43m]\u001b[49m\u001b[43m[\u001b[49m\u001b[38;5;241;43m1\u001b[39;49m\u001b[43m]\u001b[49m\u001b[38;5;132;43;01m}\u001b[39;49;00m\u001b[38;5;124;43m.mp4\u001b[39;49m\u001b[38;5;124;43m'\u001b[39;49m\u001b[43m)\u001b[49m\n",
      "File \u001b[0;32m~/anaconda3/envs/Subhadeep/lib/python3.8/site-packages/decord/video_reader.py:57\u001b[0m, in \u001b[0;36mVideoReader.__init__\u001b[0;34m(self, uri, ctx, width, height, num_threads, fault_tol)\u001b[0m\n\u001b[1;32m     54\u001b[0m     \u001b[38;5;28mself\u001b[39m\u001b[38;5;241m.\u001b[39m_handle \u001b[38;5;241m=\u001b[39m _CAPI_VideoReaderGetVideoReader(\n\u001b[1;32m     55\u001b[0m         uri, ctx\u001b[38;5;241m.\u001b[39mdevice_type, ctx\u001b[38;5;241m.\u001b[39mdevice_id, width, height, num_threads, \u001b[38;5;241m0\u001b[39m, fault_tol)\n\u001b[1;32m     56\u001b[0m \u001b[38;5;28;01mif\u001b[39;00m \u001b[38;5;28mself\u001b[39m\u001b[38;5;241m.\u001b[39m_handle \u001b[38;5;129;01mis\u001b[39;00m \u001b[38;5;28;01mNone\u001b[39;00m:\n\u001b[0;32m---> 57\u001b[0m     \u001b[38;5;28;01mraise\u001b[39;00m \u001b[38;5;167;01mRuntimeError\u001b[39;00m(\u001b[38;5;124m\"\u001b[39m\u001b[38;5;124mError reading \u001b[39m\u001b[38;5;124m\"\u001b[39m \u001b[38;5;241m+\u001b[39m uri \u001b[38;5;241m+\u001b[39m \u001b[38;5;124m\"\u001b[39m\u001b[38;5;124m...\u001b[39m\u001b[38;5;124m\"\u001b[39m)\n\u001b[1;32m     58\u001b[0m \u001b[38;5;28mself\u001b[39m\u001b[38;5;241m.\u001b[39m_num_frame \u001b[38;5;241m=\u001b[39m _CAPI_VideoReaderGetFrameCount(\u001b[38;5;28mself\u001b[39m\u001b[38;5;241m.\u001b[39m_handle)\n\u001b[1;32m     59\u001b[0m \u001b[38;5;28;01massert\u001b[39;00m \u001b[38;5;28mself\u001b[39m\u001b[38;5;241m.\u001b[39m_num_frame \u001b[38;5;241m>\u001b[39m \u001b[38;5;241m0\u001b[39m, \u001b[38;5;124m\"\u001b[39m\u001b[38;5;124mInvalid frame count: \u001b[39m\u001b[38;5;132;01m{}\u001b[39;00m\u001b[38;5;124m\"\u001b[39m\u001b[38;5;241m.\u001b[39mformat(\u001b[38;5;28mself\u001b[39m\u001b[38;5;241m.\u001b[39m_num_frame)\n",
      "\u001b[0;31mRuntimeError\u001b[0m: Error reading /home/user/Subhadeep/FAST_VQA/DATASETS/LSVD/LSVD_zip/yfcc-batch1/722.mp4..."
     ]
    }
   ],
   "source": [
    "decord.VideoReader('/home/user/Subhadeep/FAST_VQA/DATASETS/LSVD/LSVD_zip/'+f'{datalist[0][1]}.mp4')"
   ]
  },
  {
   "cell_type": "code",
   "execution_count": 24,
   "id": "2bbf5a01-a193-4d3a-8936-5aeef66602d1",
   "metadata": {},
   "outputs": [
    {
     "name": "stderr",
     "output_type": "stream",
     "text": [
      "  0%|                                                 | 0/3573 [00:00<?, ?it/s]\n"
     ]
    }
   ],
   "source": [
    "for data in tqdm(datalist):\n",
    "#     print(data)\n",
    "    break\n",
    "    try:\n",
    "        decord.VideoReader(f\"{data[1]}.mp4\")\n",
    "        strlist.append(f\"{data[1]}_{int(data[2]):06d}_{int(data[3]):06d}.mp4, -1, -1, {label_dict[data[0]]}\\n\")\n",
    "    except:\n",
    "        pass"
   ]
  },
  {
   "cell_type": "code",
   "execution_count": 23,
   "id": "3247b320",
   "metadata": {},
   "outputs": [
    {
     "data": {
      "text/plain": [
       "'yfcc-batch1/722'"
      ]
     },
     "execution_count": 23,
     "metadata": {},
     "output_type": "execute_result"
    }
   ],
   "source": [
    "datalist[0][1]"
   ]
  },
  {
   "cell_type": "code",
   "execution_count": 13,
   "id": "d6c43560-c095-401a-accb-499f3a76dccc",
   "metadata": {},
   "outputs": [],
   "source": [
    "from tqdm import tqdm\n"
   ]
  },
  {
   "cell_type": "raw",
   "id": "43fdb520-e997-4777-b5c0-cad4d78cbf6e",
   "metadata": {},
   "source": [
    "str_list[0]"
   ]
  },
  {
   "cell_type": "code",
   "execution_count": 23,
   "id": "115a24fc-24be-4fd3-bb82-5c29e36793a4",
   "metadata": {},
   "outputs": [],
   "source": [
    "with open(\"k400/test_labels.txt\", \"w\") as f:\n",
    "    for str_ in strlist:\n",
    "        f.write(str_)"
   ]
  },
  {
   "cell_type": "code",
   "execution_count": 32,
   "id": "d43ce619-a945-4e5a-842e-52bc3b78538f",
   "metadata": {},
   "outputs": [
    {
     "data": {
      "text/plain": [
       "int"
      ]
     },
     "execution_count": 32,
     "metadata": {},
     "output_type": "execute_result"
    }
   ],
   "source": [
    "str"
   ]
  },
  {
   "cell_type": "code",
   "execution_count": 22,
   "id": "56a526b1-7ec6-484a-ae65-ad6e9d843f33",
   "metadata": {},
   "outputs": [
    {
     "name": "stdout",
     "output_type": "stream",
     "text": [
      "\u001b[0m\u001b[01;34mannotations\u001b[0m/     readme.md     \u001b[01;34mtest\u001b[0m/   train_labels.txt  val_labels.txt\n",
      "demo_labels.txt  \u001b[01;34mreplacement\u001b[0m/  \u001b[01;34mtrain\u001b[0m/  \u001b[01;34mval\u001b[0m/\n"
     ]
    }
   ],
   "source": [
    "ls k400"
   ]
  },
  {
   "cell_type": "code",
   "execution_count": null,
   "id": "80932793-5807-4041-8e72-2724b592ce51",
   "metadata": {},
   "outputs": [],
   "source": []
  }
 ],
 "metadata": {
  "kernelspec": {
   "display_name": "Python 3 (ipykernel)",
   "language": "python",
   "name": "python3"
  },
  "language_info": {
   "codemirror_mode": {
    "name": "ipython",
    "version": 3
   },
   "file_extension": ".py",
   "mimetype": "text/x-python",
   "name": "python",
   "nbconvert_exporter": "python",
   "pygments_lexer": "ipython3",
   "version": "3.8.13"
  }
 },
 "nbformat": 4,
 "nbformat_minor": 5
}
